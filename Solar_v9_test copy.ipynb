{
 "cells": [
  {
   "cell_type": "code",
   "execution_count": 1,
   "metadata": {},
   "outputs": [],
   "source": [
    "from ultralytics import YOLO\n",
    "model_dir = 'D:/Solar_Project/runs/detect/train15/weights/best.pt'"
   ]
  },
  {
   "cell_type": "code",
   "execution_count": 2,
   "metadata": {},
   "outputs": [],
   "source": [
    "model = YOLO(model_dir)"
   ]
  },
  {
   "cell_type": "code",
   "execution_count": 3,
   "metadata": {},
   "outputs": [
    {
     "name": "stdout",
     "output_type": "stream",
     "text": [
      "YOLOv10b summary: 518 layers, 20458734 parameters, 0 gradients, 98.7 GFLOPs\n"
     ]
    },
    {
     "data": {
      "text/plain": [
       "(518, 20458734, 0, 98.7083264)"
      ]
     },
     "execution_count": 3,
     "metadata": {},
     "output_type": "execute_result"
    }
   ],
   "source": [
    "model.info()"
   ]
  },
  {
   "cell_type": "code",
   "execution_count": 4,
   "metadata": {},
   "outputs": [],
   "source": [
    "data_path = 'D:/Solar_Project/input/test.yaml'"
   ]
  },
  {
   "cell_type": "code",
   "execution_count": 5,
   "metadata": {},
   "outputs": [
    {
     "name": "stdout",
     "output_type": "stream",
     "text": [
      "Ultralytics YOLOv8.2.40  Python-3.10.14 torch-2.3.1+cpu CPU (Intel Xeon W-2155 3.30GHz)\n",
      "YOLOv10b summary (fused): 383 layers, 20418862 parameters, 0 gradients, 98.0 GFLOPs\n"
     ]
    },
    {
     "name": "stderr",
     "output_type": "stream",
     "text": [
      "\u001b[34m\u001b[1mval: \u001b[0mScanning D:\\Solar_Project\\input\\test\\labels.cache... 93 images, 0 backgrounds, 1 corrupt: 100%|██████████| 93/93 [00:00<?, ?it/s]"
     ]
    },
    {
     "name": "stdout",
     "output_type": "stream",
     "text": [
      "\u001b[34m\u001b[1mval: \u001b[0mWARNING  D:\\Solar_Project\\input\\test\\images\\Copy of P1010892.JPG: ignoring corrupt image/label: non-normalized or out of bounds coordinates [     1.2015]\n"
     ]
    },
    {
     "name": "stderr",
     "output_type": "stream",
     "text": [
      "\n",
      "                 Class     Images  Instances      Box(P          R      mAP50  mAP50-95): 100%|██████████| 6/6 [01:03<00:00, 10.64s/it]\n"
     ]
    },
    {
     "name": "stdout",
     "output_type": "stream",
     "text": [
      "                   all         92        602      0.651      0.469      0.468      0.302\n",
      "             bird drop         85        388      0.308      0.284      0.205     0.0563\n",
      "               damaged          2          2          1          0          0          0\n",
      "                 dusty         86        107      0.776      0.888      0.929       0.83\n",
      "                 plant         20         80      0.476      0.625      0.587      0.204\n",
      "                shadow         19         25      0.695      0.547      0.621      0.419\n",
      "Speed: 1.1ms preprocess, 334.6ms inference, 0.0ms loss, 0.0ms postprocess per image\n",
      "Results saved to \u001b[1mruns\\test\\v10\\results_v10\u001b[0m\n"
     ]
    }
   ],
   "source": [
    "metrics = model.val(\n",
    "    data=data_path,\n",
    "    split=\"test\",\n",
    "    project='./runs/test/v10',\n",
    "    name='results_v10'\n",
    ")"
   ]
  }
 ],
 "metadata": {
  "kernelspec": {
   "display_name": "rib",
   "language": "python",
   "name": "python3"
  },
  "language_info": {
   "codemirror_mode": {
    "name": "ipython",
    "version": 3
   },
   "file_extension": ".py",
   "mimetype": "text/x-python",
   "name": "python",
   "nbconvert_exporter": "python",
   "pygments_lexer": "ipython3",
   "version": "3.10.14"
  }
 },
 "nbformat": 4,
 "nbformat_minor": 2
}
