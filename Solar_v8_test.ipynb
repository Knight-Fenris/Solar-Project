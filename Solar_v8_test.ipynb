{
 "cells": [
  {
   "cell_type": "code",
   "execution_count": 2,
   "metadata": {},
   "outputs": [],
   "source": [
    "from ultralytics import YOLO\n",
    "model_dir = 'D:/Solar_Project/runs/detect/train5/weights/best.pt'"
   ]
  },
  {
   "cell_type": "code",
   "execution_count": 3,
   "metadata": {},
   "outputs": [],
   "source": [
    "model = YOLO(model_dir)"
   ]
  },
  {
   "cell_type": "code",
   "execution_count": 4,
   "metadata": {},
   "outputs": [
    {
     "name": "stdout",
     "output_type": "stream",
     "text": [
      "YOLOv8l summary: 365 layers, 43633695 parameters, 0 gradients, 165.4 GFLOPs\n"
     ]
    },
    {
     "data": {
      "text/plain": [
       "(365, 43633695, 0, 165.420288)"
      ]
     },
     "execution_count": 4,
     "metadata": {},
     "output_type": "execute_result"
    }
   ],
   "source": [
    "model.info()"
   ]
  },
  {
   "cell_type": "code",
   "execution_count": 9,
   "metadata": {},
   "outputs": [],
   "source": [
    "data_path = 'D:/Solar_Project/input/test.yaml'"
   ]
  },
  {
   "cell_type": "code",
   "execution_count": 10,
   "metadata": {},
   "outputs": [
    {
     "name": "stdout",
     "output_type": "stream",
     "text": [
      "Ultralytics YOLOv8.2.40  Python-3.10.14 torch-2.3.1+cpu CPU (Intel Xeon W-2155 3.30GHz)\n"
     ]
    },
    {
     "name": "stderr",
     "output_type": "stream",
     "text": [
      "\u001b[34m\u001b[1mval: \u001b[0mScanning D:\\Solar_Project\\input\\test\\labels... 93 images, 0 backgrounds, 1 corrupt: 100%|██████████| 93/93 [00:01<00:00, 76.46it/s]"
     ]
    },
    {
     "name": "stdout",
     "output_type": "stream",
     "text": [
      "\u001b[34m\u001b[1mval: \u001b[0mWARNING  D:\\Solar_Project\\input\\test\\images\\Copy of P1010892.JPG: ignoring corrupt image/label: non-normalized or out of bounds coordinates [     1.2015]\n",
      "\u001b[34m\u001b[1mval: \u001b[0mNew cache created: D:\\Solar_Project\\input\\test\\labels.cache\n"
     ]
    },
    {
     "name": "stderr",
     "output_type": "stream",
     "text": [
      "\n",
      "                 Class     Images  Instances      Box(P          R      mAP50  mAP50-95): 100%|██████████| 6/6 [01:18<00:00, 13.15s/it]\n"
     ]
    },
    {
     "name": "stdout",
     "output_type": "stream",
     "text": [
      "                   all         92        602      0.684      0.454      0.451      0.281\n",
      "             bird drop         85        388      0.354      0.291      0.219     0.0553\n",
      "               damaged          2          2          1          0          0          0\n",
      "                 dusty         86        107      0.782      0.907      0.922       0.81\n",
      "                 plant         20         80      0.581        0.6      0.542       0.18\n",
      "                shadow         19         25      0.702      0.471      0.575      0.359\n",
      "Speed: 1.1ms preprocess, 419.4ms inference, 0.0ms loss, 0.5ms postprocess per image\n",
      "Results saved to \u001b[1mruns\\test\\v8\\results2\u001b[0m\n"
     ]
    }
   ],
   "source": [
    "metrics = model.val(\n",
    "    data=data_path,\n",
    "    split=\"test\",\n",
    "    project='./runs/test/v8',\n",
    "    name='results'\n",
    ")"
   ]
  },
  {
   "cell_type": "code",
   "execution_count": null,
   "metadata": {},
   "outputs": [
    {
     "name": "stdout",
     "output_type": "stream",
     "text": [
      "Ultralytics YOLOv8.2.40  Python-3.10.14 torch-2.3.1+cpu CPU (Intel Xeon W-2155 3.30GHz)\n"
     ]
    },
    {
     "name": "stderr",
     "output_type": "stream",
     "text": [
      "\u001b[34m\u001b[1mval: \u001b[0mScanning D:\\Solar_Project\\input\\test\\labels... 93 images, 0 backgrounds, 1 corrupt: 100%|██████████| 93/93 [00:01<00:00, 76.46it/s]"
     ]
    },
    {
     "name": "stdout",
     "output_type": "stream",
     "text": [
      "\u001b[34m\u001b[1mval: \u001b[0mWARNING  D:\\Solar_Project\\input\\test\\images\\Copy of P1010892.JPG: ignoring corrupt image/label: non-normalized or out of bounds coordinates [     1.2015]\n",
      "\u001b[34m\u001b[1mval: \u001b[0mNew cache created: D:\\Solar_Project\\input\\test\\labels.cache\n"
     ]
    },
    {
     "name": "stderr",
     "output_type": "stream",
     "text": [
      "\n",
      "                 Class     Images  Instances      Box(P          R      mAP50  mAP50-95): 100%|██████████| 6/6 [01:18<00:00, 13.15s/it]\n"
     ]
    },
    {
     "name": "stdout",
     "output_type": "stream",
     "text": [
      "                   all         92        602      0.684      0.454      0.451      0.281\n",
      "             bird drop         85        388      0.354      0.291      0.219     0.0553\n",
      "               damaged          2          2          1          0          0          0\n",
      "                 dusty         86        107      0.782      0.907      0.922       0.81\n",
      "                 plant         20         80      0.581        0.6      0.542       0.18\n",
      "                shadow         19         25      0.702      0.471      0.575      0.359\n",
      "Speed: 1.1ms preprocess, 419.4ms inference, 0.0ms loss, 0.5ms postprocess per image\n",
      "Results saved to \u001b[1mruns\\test\\v8\\results2\u001b[0m\n"
     ]
    }
   ],
   "source": [
    "metrics = model.val(\n",
    "    data=data_path,\n",
    "    split=\"test\",\n",
    "    project='./runs/test/v8',\n",
    "    name='results'\n",
    ")"
   ]
  }
 ],
 "metadata": {
  "kernelspec": {
   "display_name": "rib",
   "language": "python",
   "name": "python3"
  },
  "language_info": {
   "codemirror_mode": {
    "name": "ipython",
    "version": 3
   },
   "file_extension": ".py",
   "mimetype": "text/x-python",
   "name": "python",
   "nbconvert_exporter": "python",
   "pygments_lexer": "ipython3",
   "version": "3.10.14"
  }
 },
 "nbformat": 4,
 "nbformat_minor": 2
}
